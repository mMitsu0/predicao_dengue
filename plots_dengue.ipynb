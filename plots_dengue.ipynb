{
 "cells": [
  {
   "cell_type": "code",
   "execution_count": null,
   "id": "bc5dfb3e",
   "metadata": {},
   "outputs": [],
   "source": [
    "import matplotlib.pyplot as plt\n",
    "import seaborn as sns\n",
    "\n",
    "def plot_comparacao_erros(modelos, mse_percentuais):\n",
    "    plt.figure(figsize=(10,6))\n",
    "    sns.barplot(x=modelos, y=mse_percentuais, palette=\"viridis\")\n",
    "    plt.title('Erro Quadrático Médio (%) por Modelo')\n",
    "    plt.ylabel('Erro (%)')\n",
    "    plt.xlabel('Modelos')\n",
    "    plt.xticks(rotation=45)\n",
    "    plt.grid(axis='y')\n",
    "    plt.tight_layout()\n",
    "    plt.show()\n",
    "\n",
    "def plot_real_vs_predito(y_real, y_predito, modelo_nome='Modelo'):\n",
    "    plt.figure(figsize=(8,8))\n",
    "    sns.scatterplot(x=y_real, y=y_predito, color='dodgerblue', edgecolor='black')\n",
    "    plt.plot([y_real.min(), y_real.max()], [y_real.min(), y_real.max()], 'k--', lw=2)\n",
    "    plt.title(f'Real vs Predito - {modelo_nome}')\n",
    "    plt.xlabel('Casos Reais')\n",
    "    plt.ylabel('Casos Preditos')\n",
    "    plt.grid()\n",
    "    plt.tight_layout()\n",
    "    plt.show()\n"
   ]
  }
 ],
 "metadata": {},
 "nbformat": 4,
 "nbformat_minor": 5
}
